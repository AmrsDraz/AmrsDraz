{
 "cells": [
  {
   "cell_type": "code",
   "execution_count": 3,
   "id": "c9393aa1",
   "metadata": {},
   "outputs": [],
   "source": [
    "import pandas as pd\n",
    "import numpy as np\n",
    "%matplotlib inline\n",
    "import seaborn as sns\n",
    "import matplotlib.pyplot as plt"
   ]
  },
  {
   "cell_type": "code",
   "execution_count": 4,
   "id": "e7a84eb5",
   "metadata": {},
   "outputs": [],
   "source": [
    "df = pd.read_csv('tmdb-movies.csv')"
   ]
  },
  {
   "cell_type": "code",
   "execution_count": 5,
   "id": "e5d266dc",
   "metadata": {},
   "outputs": [],
   "source": [
    "# Data Exploration\n",
    "\n"
   ]
  },
  {
   "cell_type": "code",
   "execution_count": 6,
   "id": "787f3e96",
   "metadata": {},
   "outputs": [
    {
     "data": {
      "text/html": [
       "<div>\n",
       "<style scoped>\n",
       "    .dataframe tbody tr th:only-of-type {\n",
       "        vertical-align: middle;\n",
       "    }\n",
       "\n",
       "    .dataframe tbody tr th {\n",
       "        vertical-align: top;\n",
       "    }\n",
       "\n",
       "    .dataframe thead th {\n",
       "        text-align: right;\n",
       "    }\n",
       "</style>\n",
       "<table border=\"1\" class=\"dataframe\">\n",
       "  <thead>\n",
       "    <tr style=\"text-align: right;\">\n",
       "      <th></th>\n",
       "      <th>id</th>\n",
       "      <th>imdb_id</th>\n",
       "      <th>popularity</th>\n",
       "      <th>budget</th>\n",
       "      <th>revenue</th>\n",
       "      <th>original_title</th>\n",
       "      <th>cast</th>\n",
       "      <th>homepage</th>\n",
       "      <th>director</th>\n",
       "      <th>tagline</th>\n",
       "      <th>...</th>\n",
       "      <th>overview</th>\n",
       "      <th>runtime</th>\n",
       "      <th>genres</th>\n",
       "      <th>production_companies</th>\n",
       "      <th>release_date</th>\n",
       "      <th>vote_count</th>\n",
       "      <th>vote_average</th>\n",
       "      <th>release_year</th>\n",
       "      <th>budget_adj</th>\n",
       "      <th>revenue_adj</th>\n",
       "    </tr>\n",
       "  </thead>\n",
       "  <tbody>\n",
       "    <tr>\n",
       "      <th>0</th>\n",
       "      <td>135397</td>\n",
       "      <td>tt0369610</td>\n",
       "      <td>32.985763</td>\n",
       "      <td>150000000</td>\n",
       "      <td>1513528810</td>\n",
       "      <td>Jurassic World</td>\n",
       "      <td>Chris Pratt|Bryce Dallas Howard|Irrfan Khan|Vi...</td>\n",
       "      <td>http://www.jurassicworld.com/</td>\n",
       "      <td>Colin Trevorrow</td>\n",
       "      <td>The park is open.</td>\n",
       "      <td>...</td>\n",
       "      <td>Twenty-two years after the events of Jurassic ...</td>\n",
       "      <td>124</td>\n",
       "      <td>Action|Adventure|Science Fiction|Thriller</td>\n",
       "      <td>Universal Studios|Amblin Entertainment|Legenda...</td>\n",
       "      <td>6/9/2015</td>\n",
       "      <td>5562</td>\n",
       "      <td>6.5</td>\n",
       "      <td>2015</td>\n",
       "      <td>137999939.3</td>\n",
       "      <td>1.392446e+09</td>\n",
       "    </tr>\n",
       "    <tr>\n",
       "      <th>1</th>\n",
       "      <td>76341</td>\n",
       "      <td>tt1392190</td>\n",
       "      <td>28.419936</td>\n",
       "      <td>150000000</td>\n",
       "      <td>378436354</td>\n",
       "      <td>Mad Max: Fury Road</td>\n",
       "      <td>Tom Hardy|Charlize Theron|Hugh Keays-Byrne|Nic...</td>\n",
       "      <td>http://www.madmaxmovie.com/</td>\n",
       "      <td>George Miller</td>\n",
       "      <td>What a Lovely Day.</td>\n",
       "      <td>...</td>\n",
       "      <td>An apocalyptic story set in the furthest reach...</td>\n",
       "      <td>120</td>\n",
       "      <td>Action|Adventure|Science Fiction|Thriller</td>\n",
       "      <td>Village Roadshow Pictures|Kennedy Miller Produ...</td>\n",
       "      <td>5/13/2015</td>\n",
       "      <td>6185</td>\n",
       "      <td>7.1</td>\n",
       "      <td>2015</td>\n",
       "      <td>137999939.3</td>\n",
       "      <td>3.481613e+08</td>\n",
       "    </tr>\n",
       "    <tr>\n",
       "      <th>2</th>\n",
       "      <td>262500</td>\n",
       "      <td>tt2908446</td>\n",
       "      <td>13.112507</td>\n",
       "      <td>110000000</td>\n",
       "      <td>295238201</td>\n",
       "      <td>Insurgent</td>\n",
       "      <td>Shailene Woodley|Theo James|Kate Winslet|Ansel...</td>\n",
       "      <td>http://www.thedivergentseries.movie/#insurgent</td>\n",
       "      <td>Robert Schwentke</td>\n",
       "      <td>One Choice Can Destroy You</td>\n",
       "      <td>...</td>\n",
       "      <td>Beatrice Prior must confront her inner demons ...</td>\n",
       "      <td>119</td>\n",
       "      <td>Adventure|Science Fiction|Thriller</td>\n",
       "      <td>Summit Entertainment|Mandeville Films|Red Wago...</td>\n",
       "      <td>3/18/2015</td>\n",
       "      <td>2480</td>\n",
       "      <td>6.3</td>\n",
       "      <td>2015</td>\n",
       "      <td>101199955.5</td>\n",
       "      <td>2.716190e+08</td>\n",
       "    </tr>\n",
       "  </tbody>\n",
       "</table>\n",
       "<p>3 rows × 21 columns</p>\n",
       "</div>"
      ],
      "text/plain": [
       "       id    imdb_id  popularity     budget     revenue      original_title  \\\n",
       "0  135397  tt0369610   32.985763  150000000  1513528810      Jurassic World   \n",
       "1   76341  tt1392190   28.419936  150000000   378436354  Mad Max: Fury Road   \n",
       "2  262500  tt2908446   13.112507  110000000   295238201           Insurgent   \n",
       "\n",
       "                                                cast  \\\n",
       "0  Chris Pratt|Bryce Dallas Howard|Irrfan Khan|Vi...   \n",
       "1  Tom Hardy|Charlize Theron|Hugh Keays-Byrne|Nic...   \n",
       "2  Shailene Woodley|Theo James|Kate Winslet|Ansel...   \n",
       "\n",
       "                                         homepage          director  \\\n",
       "0                   http://www.jurassicworld.com/   Colin Trevorrow   \n",
       "1                     http://www.madmaxmovie.com/     George Miller   \n",
       "2  http://www.thedivergentseries.movie/#insurgent  Robert Schwentke   \n",
       "\n",
       "                      tagline  ...  \\\n",
       "0           The park is open.  ...   \n",
       "1          What a Lovely Day.  ...   \n",
       "2  One Choice Can Destroy You  ...   \n",
       "\n",
       "                                            overview runtime  \\\n",
       "0  Twenty-two years after the events of Jurassic ...     124   \n",
       "1  An apocalyptic story set in the furthest reach...     120   \n",
       "2  Beatrice Prior must confront her inner demons ...     119   \n",
       "\n",
       "                                      genres  \\\n",
       "0  Action|Adventure|Science Fiction|Thriller   \n",
       "1  Action|Adventure|Science Fiction|Thriller   \n",
       "2         Adventure|Science Fiction|Thriller   \n",
       "\n",
       "                                production_companies release_date vote_count  \\\n",
       "0  Universal Studios|Amblin Entertainment|Legenda...     6/9/2015       5562   \n",
       "1  Village Roadshow Pictures|Kennedy Miller Produ...    5/13/2015       6185   \n",
       "2  Summit Entertainment|Mandeville Films|Red Wago...    3/18/2015       2480   \n",
       "\n",
       "   vote_average  release_year   budget_adj   revenue_adj  \n",
       "0           6.5          2015  137999939.3  1.392446e+09  \n",
       "1           7.1          2015  137999939.3  3.481613e+08  \n",
       "2           6.3          2015  101199955.5  2.716190e+08  \n",
       "\n",
       "[3 rows x 21 columns]"
      ]
     },
     "execution_count": 6,
     "metadata": {},
     "output_type": "execute_result"
    }
   ],
   "source": [
    "df.head(3)"
   ]
  },
  {
   "cell_type": "code",
   "execution_count": 7,
   "id": "1ef7f05e",
   "metadata": {},
   "outputs": [
    {
     "data": {
      "text/plain": [
       "(10866, 21)"
      ]
     },
     "execution_count": 7,
     "metadata": {},
     "output_type": "execute_result"
    }
   ],
   "source": [
    "df.shape"
   ]
  },
  {
   "cell_type": "markdown",
   "id": "be3faad7",
   "metadata": {},
   "source": [
    "## Data Clean-Up\n"
    "In this section, I will check for data cleaniness, remove any duplicates, verify for proper data type and make any other needed modifications."
   ]
  },
  {
   "cell_type": "code",
   "execution_count": 8,
   "id": "26412d50",
   "metadata": {},
   "outputs": [
    {
     "name": "stdout",
     "output_type": "stream",
     "text": [
      "<class 'pandas.core.frame.DataFrame'>\n",
      "RangeIndex: 10866 entries, 0 to 10865\n",
      "Data columns (total 21 columns):\n",
      " #   Column                Non-Null Count  Dtype  \n",
      "---  ------                --------------  -----  \n",
      " 0   id                    10866 non-null  int64  \n",
      " 1   imdb_id               10856 non-null  object \n",
      " 2   popularity            10866 non-null  float64\n",
      " 3   budget                10866 non-null  int64  \n",
      " 4   revenue               10866 non-null  int64  \n",
      " 5   original_title        10866 non-null  object \n",
      " 6   cast                  10790 non-null  object \n",
      " 7   homepage              2936 non-null   object \n",
      " 8   director              10822 non-null  object \n",
      " 9   tagline               8042 non-null   object \n",
      " 10  keywords              9373 non-null   object \n",
      " 11  overview              10862 non-null  object \n",
      " 12  runtime               10866 non-null  int64  \n",
      " 13  genres                10843 non-null  object \n",
      " 14  production_companies  9836 non-null   object \n",
      " 15  release_date          10866 non-null  object \n",
      " 16  vote_count            10866 non-null  int64  \n",
      " 17  vote_average          10866 non-null  float64\n",
      " 18  release_year          10866 non-null  int64  \n",
      " 19  budget_adj            10866 non-null  float64\n",
      " 20  revenue_adj           10866 non-null  float64\n",
      "dtypes: float64(4), int64(6), object(11)\n",
      "memory usage: 1.7+ MB\n"
     ]
    }
   ],
   "source": [
    "df.info()"
   ]
  },
  {
   "cell_type": "markdown",
   "id": "5ece06af",
   "metadata": {},
   "source": [
    "# NOW, it is time for data warngling :\n",
    "- I will check duplicates and remove them\n",
    "- I will handle missing values depending on their type and importance \n"
   ]
  },
  {
   "cell_type": "code",
   "execution_count": 9,
   "id": "b5170ef8",
   "metadata": {},
   "outputs": [
    {
     "data": {
      "text/plain": [
       "1"
      ]
     },
     "execution_count": 9,
     "metadata": {},
     "output_type": "execute_result"
    }
   ],
   "source": [
    "# check duplicates\n",
    "df.duplicated().sum()"
   ]
  },
  {
   "cell_type": "code",
   "execution_count": 23,
   "id": "a7612c60",
   "metadata": {},
   "outputs": [],
   "source": [
    "df.drop_duplicates(inplace=True)"
   ]
  },
  {
   "cell_type": "code",
   "execution_count": 24,
   "id": "aa3c46c8",
   "metadata": {},
   "outputs": [
    {
     "data": {
      "text/plain": [
       "False"
      ]
     },
     "execution_count": 24,
     "metadata": {},
     "output_type": "execute_result"
    }
   ],
   "source": [
    "#check the duplicated to assure it is fixed\n",
    "df.duplicated().sum().any()"
   ]
  },
  {
   "cell_type": "markdown",
   "id": "27f372a2",
   "metadata": {},
   "source": [
    "Data has been cleared of any duplicates"
   ]
  },
  {
   "cell_type": "markdown",
   "id": "f3c961b6",
   "metadata": {},
   "source": [
    " ## Checking for missing data"
   ]
  },
  {
   "cell_type": "code",
   "execution_count": 26,
   "id": "0f5f4ba2",
   "metadata": {},
   "outputs": [
    {
     "data": {
      "text/plain": [
       "id                         0\n",
       "imdb_id                   10\n",
       "popularity                 0\n",
       "budget                     0\n",
       "revenue                    0\n",
       "original_title             0\n",
       "cast                      76\n",
       "homepage                7929\n",
       "director                  44\n",
       "tagline                 2824\n",
       "keywords                1493\n",
       "overview                   4\n",
       "runtime                    0\n",
       "genres                    23\n",
       "production_companies    1030\n",
       "release_date               0\n",
       "vote_count                 0\n",
       "vote_average               0\n",
       "release_year               0\n",
       "budget_adj                 0\n",
       "revenue_adj                0\n",
       "dtype: int64"
      ]
     },
     "execution_count": 26,
     "metadata": {},
     "output_type": "execute_result"
    }
   ],
   "source": [
    "df.isna().sum()"
   ]
  },
  {
   "cell_type": "markdown",
   "id": "0ca7bc84",
   "metadata": {},
   "source": [
    "Data Clean-up Notes\n"
    "Missing data values were discovered, but not all of them can be guessed or determined by use of mean or median.\n",
    "For example, I'm unable to guess movie budget or revenue, URLs or IMDb ID. In this case, the values will be dropped.\n",
    "so,\n",
    "\n",
    "1) Remove missing values from column (imdb_id, cast, homepage, tagline, keywords, production_companies)\n",
    "\n",
    "2) Adjust `time` to `day time`\n",
    "\n",
    "3) In `production-companies` column, the data is written with space | so I split them in order to deal with the data\n"
   ]
  },
  {
   "cell_type": "code",
   "execution_count": 29,
   "id": "099dee15",
   "metadata": {},
   "outputs": [],
   "source": [
    "# Dropping missing values\n",
    "df.dropna(inplace=True)"
   ]
  },
  {
   "cell_type": "code",
   "execution_count": 30,
   "id": "9f63204f",
   "metadata": {},
   "outputs": [
    {
     "data": {
      "text/plain": [
       "id                      0\n",
       "imdb_id                 0\n",
       "popularity              0\n",
       "budget                  0\n",
       "revenue                 0\n",
       "original_title          0\n",
       "cast                    0\n",
       "homepage                0\n",
       "director                0\n",
       "tagline                 0\n",
       "keywords                0\n",
       "overview                0\n",
       "runtime                 0\n",
       "genres                  0\n",
       "production_companies    0\n",
       "release_date            0\n",
       "vote_count              0\n",
       "vote_average            0\n",
       "release_year            0\n",
       "budget_adj              0\n",
       "revenue_adj             0\n",
       "dtype: int64"
      ]
     },
     "execution_count": 30,
     "metadata": {},
     "output_type": "execute_result"
    }
   ],
   "source": [
    "df.isna().sum()"
   ]
  },
  {
   "cell_type": "code",
   "execution_count": 31,
   "id": "7255e8d7",
   "metadata": {},
   "outputs": [
    {
     "data": {
      "text/plain": [
       "(1992, 21)"
      ]
     },
     "execution_count": 31,
     "metadata": {},
     "output_type": "execute_result"
    }
   ],
   "source": [
    "df.shape"
   ]
  },
  {
   "cell_type": "code",
   "execution_count": 37,
   "id": "bdf77118",
   "metadata": {},
   "outputs": [
    {
     "name": "stdout",
     "output_type": "stream",
     "text": [
      "<class 'pandas.core.frame.DataFrame'>\n",
      "Int64Index: 1992 entries, 0 to 10819\n",
      "Data columns (total 21 columns):\n",
      " #   Column                Non-Null Count  Dtype  \n",
      "---  ------                --------------  -----  \n",
      " 0   id                    1992 non-null   int64  \n",
      " 1   imdb_id               1992 non-null   object \n",
      " 2   popularity            1992 non-null   float64\n",
      " 3   budget                1992 non-null   int64  \n",
      " 4   revenue               1992 non-null   int64  \n",
      " 5   original_title        1992 non-null   object \n",
      " 6   cast                  1992 non-null   object \n",
      " 7   homepage              1992 non-null   object \n",
      " 8   director              1992 non-null   object \n",
      " 9   tagline               1992 non-null   object \n",
      " 10  keywords              1992 non-null   object \n",
      " 11  overview              1992 non-null   object \n",
      " 12  runtime               1992 non-null   int64  \n",
      " 13  genres                1992 non-null   object \n",
      " 14  production_companies  1992 non-null   object \n",
      " 15  release_date          1992 non-null   object \n",
      " 16  vote_count            1992 non-null   int64  \n",
      " 17  vote_average          1992 non-null   float64\n",
      " 18  release_year          1992 non-null   int64  \n",
      " 19  budget_adj            1992 non-null   float64\n",
      " 20  revenue_adj           1992 non-null   float64\n",
      "dtypes: float64(4), int64(6), object(11)\n",
      "memory usage: 342.4+ KB\n"
     ]
    }
   ],
   "source": [
    "df.info()"
   ]
  },
  {
   "cell_type": "code",
   "execution_count": 38,
   "id": "6a419586",
   "metadata": {},
   "outputs": [
    {
     "data": {
      "text/plain": [
       "id                        int64\n",
       "imdb_id                  object\n",
       "popularity              float64\n",
       "budget                    int64\n",
       "revenue                   int64\n",
       "original_title           object\n",
       "cast                     object\n",
       "homepage                 object\n",
       "director                 object\n",
       "tagline                  object\n",
       "keywords                 object\n",
       "overview                 object\n",
       "runtime                   int64\n",
       "genres                   object\n",
       "production_companies     object\n",
       "release_date             object\n",
       "vote_count                int64\n",
       "vote_average            float64\n",
       "release_year              int64\n",
       "budget_adj              float64\n",
       "revenue_adj             float64\n",
       "dtype: object"
      ]
     },
     "execution_count": 38,
     "metadata": {},
     "output_type": "execute_result"
    }
   ],
   "source": [
    "df.dtypes"
   ]
  },
  {
   "cell_type": "code",
   "execution_count": 40,
   "id": "97101c03",
   "metadata": {},
   "outputs": [],
   "source": [
    "# Adjusting date and time in column `release_date`\n",
    "df['release_date']=pd.to_datetime(df[\"release_date\"])"
   ]
  },
  {
   "cell_type": "code",
   "execution_count": 41,
   "id": "0a39c709",
   "metadata": {},
   "outputs": [
    {
     "data": {
      "text/plain": [
       "0       2015-06-09\n",
       "1       2015-05-13\n",
       "2       2015-03-18\n",
       "3       2015-12-15\n",
       "4       2015-04-01\n",
       "           ...    \n",
       "10724   2069-12-12\n",
       "10759   1978-10-25\n",
       "10760   1978-07-27\n",
       "10817   1978-05-01\n",
       "10819   1978-07-28\n",
       "Name: release_date, Length: 1992, dtype: datetime64[ns]"
      ]
     },
     "execution_count": 41,
     "metadata": {},
     "output_type": "execute_result"
    }
   ],
   "source": [
    "df[\"release_date\"]"
   ]
  },
  {
   "cell_type": "raw",
   "id": "c240b545",
   "metadata": {},
   "source": [
    "df.head(2)"
   ]
  },
  {
   "cell_type": "code",
   "execution_count": 44,
   "id": "1c767319",
   "metadata": {},
   "outputs": [
    {
     "data": {
      "text/html": [
       "<div>\n",
       "<style scoped>\n",
       "    .dataframe tbody tr th:only-of-type {\n",
       "        vertical-align: middle;\n",
       "    }\n",
       "\n",
       "    .dataframe tbody tr th {\n",
       "        vertical-align: top;\n",
       "    }\n",
       "\n",
       "    .dataframe thead th {\n",
       "        text-align: right;\n",
       "    }\n",
       "</style>\n",
       "<table border=\"1\" class=\"dataframe\">\n",
       "  <thead>\n",
       "    <tr style=\"text-align: right;\">\n",
       "      <th></th>\n",
       "      <th>id</th>\n",
       "      <th>popularity</th>\n",
       "      <th>budget</th>\n",
       "      <th>revenue</th>\n",
       "      <th>runtime</th>\n",
       "      <th>vote_count</th>\n",
       "      <th>vote_average</th>\n",
       "      <th>release_year</th>\n",
       "      <th>budget_adj</th>\n",
       "      <th>revenue_adj</th>\n",
       "    </tr>\n",
       "  </thead>\n",
       "  <tbody>\n",
       "    <tr>\n",
       "      <th>count</th>\n",
       "      <td>1992.000000</td>\n",
       "      <td>1992.000000</td>\n",
       "      <td>1.992000e+03</td>\n",
       "      <td>1.992000e+03</td>\n",
       "      <td>1992.000000</td>\n",
       "      <td>1992.000000</td>\n",
       "      <td>1992.000000</td>\n",
       "      <td>1992.000000</td>\n",
       "      <td>1.992000e+03</td>\n",
       "      <td>1.992000e+03</td>\n",
       "    </tr>\n",
       "    <tr>\n",
       "      <th>mean</th>\n",
       "      <td>71652.152108</td>\n",
       "      <td>1.316763</td>\n",
       "      <td>3.454924e+07</td>\n",
       "      <td>1.152153e+08</td>\n",
       "      <td>106.040161</td>\n",
       "      <td>643.616968</td>\n",
       "      <td>6.178614</td>\n",
       "      <td>2007.796687</td>\n",
       "      <td>3.627376e+07</td>\n",
       "      <td>1.302391e+08</td>\n",
       "    </tr>\n",
       "    <tr>\n",
       "      <th>std</th>\n",
       "      <td>92355.883915</td>\n",
       "      <td>1.873563</td>\n",
       "      <td>5.061878e+07</td>\n",
       "      <td>2.202887e+08</td>\n",
       "      <td>29.234592</td>\n",
       "      <td>1092.355998</td>\n",
       "      <td>0.881955</td>\n",
       "      <td>7.549224</td>\n",
       "      <td>5.129783e+07</td>\n",
       "      <td>2.564338e+08</td>\n",
       "    </tr>\n",
       "    <tr>\n",
       "      <th>min</th>\n",
       "      <td>11.000000</td>\n",
       "      <td>0.000620</td>\n",
       "      <td>0.000000e+00</td>\n",
       "      <td>0.000000e+00</td>\n",
       "      <td>0.000000</td>\n",
       "      <td>10.000000</td>\n",
       "      <td>2.100000</td>\n",
       "      <td>1961.000000</td>\n",
       "      <td>0.000000e+00</td>\n",
       "      <td>0.000000e+00</td>\n",
       "    </tr>\n",
       "    <tr>\n",
       "      <th>25%</th>\n",
       "      <td>9699.000000</td>\n",
       "      <td>0.384079</td>\n",
       "      <td>0.000000e+00</td>\n",
       "      <td>0.000000e+00</td>\n",
       "      <td>92.000000</td>\n",
       "      <td>51.000000</td>\n",
       "      <td>5.600000</td>\n",
       "      <td>2006.000000</td>\n",
       "      <td>0.000000e+00</td>\n",
       "      <td>0.000000e+00</td>\n",
       "    </tr>\n",
       "    <tr>\n",
       "      <th>50%</th>\n",
       "      <td>35112.500000</td>\n",
       "      <td>0.774223</td>\n",
       "      <td>1.500000e+07</td>\n",
       "      <td>2.578782e+07</td>\n",
       "      <td>102.000000</td>\n",
       "      <td>210.000000</td>\n",
       "      <td>6.200000</td>\n",
       "      <td>2010.000000</td>\n",
       "      <td>1.524601e+07</td>\n",
       "      <td>2.806370e+07</td>\n",
       "    </tr>\n",
       "    <tr>\n",
       "      <th>75%</th>\n",
       "      <td>83573.000000</td>\n",
       "      <td>1.538639</td>\n",
       "      <td>4.800000e+07</td>\n",
       "      <td>1.278787e+08</td>\n",
       "      <td>116.000000</td>\n",
       "      <td>688.250000</td>\n",
       "      <td>6.800000</td>\n",
       "      <td>2012.000000</td>\n",
       "      <td>5.064450e+07</td>\n",
       "      <td>1.393645e+08</td>\n",
       "    </tr>\n",
       "    <tr>\n",
       "      <th>max</th>\n",
       "      <td>414419.000000</td>\n",
       "      <td>32.985763</td>\n",
       "      <td>4.250000e+08</td>\n",
       "      <td>2.781506e+09</td>\n",
       "      <td>705.000000</td>\n",
       "      <td>9767.000000</td>\n",
       "      <td>8.300000</td>\n",
       "      <td>2015.000000</td>\n",
       "      <td>4.250000e+08</td>\n",
       "      <td>2.827124e+09</td>\n",
       "    </tr>\n",
       "  </tbody>\n",
       "</table>\n",
       "</div>"
      ],
      "text/plain": [
       "                  id   popularity        budget       revenue      runtime  \\\n",
       "count    1992.000000  1992.000000  1.992000e+03  1.992000e+03  1992.000000   \n",
       "mean    71652.152108     1.316763  3.454924e+07  1.152153e+08   106.040161   \n",
       "std     92355.883915     1.873563  5.061878e+07  2.202887e+08    29.234592   \n",
       "min        11.000000     0.000620  0.000000e+00  0.000000e+00     0.000000   \n",
       "25%      9699.000000     0.384079  0.000000e+00  0.000000e+00    92.000000   \n",
       "50%     35112.500000     0.774223  1.500000e+07  2.578782e+07   102.000000   \n",
       "75%     83573.000000     1.538639  4.800000e+07  1.278787e+08   116.000000   \n",
       "max    414419.000000    32.985763  4.250000e+08  2.781506e+09   705.000000   \n",
       "\n",
       "        vote_count  vote_average  release_year    budget_adj   revenue_adj  \n",
       "count  1992.000000   1992.000000   1992.000000  1.992000e+03  1.992000e+03  \n",
       "mean    643.616968      6.178614   2007.796687  3.627376e+07  1.302391e+08  \n",
       "std    1092.355998      0.881955      7.549224  5.129783e+07  2.564338e+08  \n",
       "min      10.000000      2.100000   1961.000000  0.000000e+00  0.000000e+00  \n",
       "25%      51.000000      5.600000   2006.000000  0.000000e+00  0.000000e+00  \n",
       "50%     210.000000      6.200000   2010.000000  1.524601e+07  2.806370e+07  \n",
       "75%     688.250000      6.800000   2012.000000  5.064450e+07  1.393645e+08  \n",
       "max    9767.000000      8.300000   2015.000000  4.250000e+08  2.827124e+09  "
      ]
     },
     "execution_count": 44,
     "metadata": {},
     "output_type": "execute_result"
    }
   ],
   "source": [
    "df.describe()"
   ]
  },
  {
   "cell_type": "code",
   "execution_count": 52,
   "id": "ae2212dd",
   "metadata": {},
   "outputs": [
    {
     "data": {
      "image/png": "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\n",
      "text/plain": [
       "<Figure size 1440x1440 with 12 Axes>"
      ]
     },
     "metadata": {
      "needs_background": "light"
     },
     "output_type": "display_data"
    }
   ],
   "source": [
    "## The Magic of Visualization \n",
    "df.hist(figsize=(20,20));"
   ]
  },
  {
   "cell_type": "code",
   "execution_count": 59,
   "id": "6adb57ad",
   "metadata": {},
   "outputs": [
    {
     "data": {
      "text/plain": [
       "count    1.992000e+03\n",
       "mean     3.454924e+07\n",
       "std      5.061878e+07\n",
       "min      0.000000e+00\n",
       "25%      0.000000e+00\n",
       "50%      1.500000e+07\n",
       "75%      4.800000e+07\n",
       "max      4.250000e+08\n",
       "Name: budget, dtype: float64"
      ]
     },
     "execution_count": 59,
     "metadata": {},
     "output_type": "execute_result"
    }
   ],
   "source": [
    "df[\"budget\"].describe()"
   ]
  },
  {
   "cell_type": "code",
   "execution_count": 60,
   "id": "f445f1a0",
   "metadata": {},
   "outputs": [
    {
     "data": {
      "text/plain": [
       "0        1513528810\n",
       "1         378436354\n",
       "2         295238201\n",
       "3        2068178225\n",
       "4        1506249360\n",
       "            ...    \n",
       "10724      81974493\n",
       "10759      70000000\n",
       "10760     141000000\n",
       "10817        321952\n",
       "10819      78000000\n",
       "Name: revenue, Length: 1992, dtype: int64"
      ]
     },
     "execution_count": 60,
     "metadata": {},
     "output_type": "execute_result"
    }
   ],
   "source": [
    "df['revenue']"
   ]
  },
  {
   "cell_type": "markdown",
   "id": "9b851790",
   "metadata": {},
   "source": [
    "Here I will split data in columns by genres and production company"
   ]
  },
  {
   "cell_type": "code",
   "execution_count": 63,
   "id": "ec3fbf02",
   "metadata": {},
   "outputs": [],
   "source": [
    "df['genres'] = df['genres'].apply(lambda x: x.split('|')[0])\n",
    "df['production_companies'] = df['production_companies'].apply(lambda x: x.split('|')[0])"
   ]
  },
  {
   "cell_type": "code",
   "execution_count": 65,
   "id": "1999ca5e",
   "metadata": {},
   "outputs": [
    {
     "data": {
      "text/html": [
       "<div>\n",
       "<style scoped>\n",
       "    .dataframe tbody tr th:only-of-type {\n",
       "        vertical-align: middle;\n",
       "    }\n",
       "\n",
       "    .dataframe tbody tr th {\n",
       "        vertical-align: top;\n",
       "    }\n",
       "\n",
       "    .dataframe thead th {\n",
       "        text-align: right;\n",
       "    }\n",
       "</style>\n",
       "<table border=\"1\" class=\"dataframe\">\n",
       "  <thead>\n",
       "    <tr style=\"text-align: right;\">\n",
       "      <th></th>\n",
       "      <th>id</th>\n",
       "      <th>imdb_id</th>\n",
       "      <th>popularity</th>\n",
       "      <th>budget</th>\n",
       "      <th>revenue</th>\n",
       "      <th>original_title</th>\n",
       "      <th>cast</th>\n",
       "      <th>homepage</th>\n",
       "      <th>director</th>\n",
       "      <th>tagline</th>\n",
       "      <th>...</th>\n",
       "      <th>overview</th>\n",
       "      <th>runtime</th>\n",
       "      <th>genres</th>\n",
       "      <th>production_companies</th>\n",
       "      <th>release_date</th>\n",
       "      <th>vote_count</th>\n",
       "      <th>vote_average</th>\n",
       "      <th>release_year</th>\n",
       "      <th>budget_adj</th>\n",
       "      <th>revenue_adj</th>\n",
       "    </tr>\n",
       "  </thead>\n",
       "  <tbody>\n",
       "    <tr>\n",
       "      <th>0</th>\n",
       "      <td>135397</td>\n",
       "      <td>tt0369610</td>\n",
       "      <td>32.985763</td>\n",
       "      <td>150000000</td>\n",
       "      <td>1513528810</td>\n",
       "      <td>Jurassic World</td>\n",
       "      <td>Chris Pratt|Bryce Dallas Howard|Irrfan Khan|Vi...</td>\n",
       "      <td>http://www.jurassicworld.com/</td>\n",
       "      <td>Colin Trevorrow</td>\n",
       "      <td>The park is open.</td>\n",
       "      <td>...</td>\n",
       "      <td>Twenty-two years after the events of Jurassic ...</td>\n",
       "      <td>124</td>\n",
       "      <td>Action</td>\n",
       "      <td>Universal Studios</td>\n",
       "      <td>2015-06-09</td>\n",
       "      <td>5562</td>\n",
       "      <td>6.5</td>\n",
       "      <td>2015</td>\n",
       "      <td>1.379999e+08</td>\n",
       "      <td>1.392446e+09</td>\n",
       "    </tr>\n",
       "    <tr>\n",
       "      <th>1</th>\n",
       "      <td>76341</td>\n",
       "      <td>tt1392190</td>\n",
       "      <td>28.419936</td>\n",
       "      <td>150000000</td>\n",
       "      <td>378436354</td>\n",
       "      <td>Mad Max: Fury Road</td>\n",
       "      <td>Tom Hardy|Charlize Theron|Hugh Keays-Byrne|Nic...</td>\n",
       "      <td>http://www.madmaxmovie.com/</td>\n",
       "      <td>George Miller</td>\n",
       "      <td>What a Lovely Day.</td>\n",
       "      <td>...</td>\n",
       "      <td>An apocalyptic story set in the furthest reach...</td>\n",
       "      <td>120</td>\n",
       "      <td>Action</td>\n",
       "      <td>Village Roadshow Pictures</td>\n",
       "      <td>2015-05-13</td>\n",
       "      <td>6185</td>\n",
       "      <td>7.1</td>\n",
       "      <td>2015</td>\n",
       "      <td>1.379999e+08</td>\n",
       "      <td>3.481613e+08</td>\n",
       "    </tr>\n",
       "    <tr>\n",
       "      <th>2</th>\n",
       "      <td>262500</td>\n",
       "      <td>tt2908446</td>\n",
       "      <td>13.112507</td>\n",
       "      <td>110000000</td>\n",
       "      <td>295238201</td>\n",
       "      <td>Insurgent</td>\n",
       "      <td>Shailene Woodley|Theo James|Kate Winslet|Ansel...</td>\n",
       "      <td>http://www.thedivergentseries.movie/#insurgent</td>\n",
       "      <td>Robert Schwentke</td>\n",
       "      <td>One Choice Can Destroy You</td>\n",
       "      <td>...</td>\n",
       "      <td>Beatrice Prior must confront her inner demons ...</td>\n",
       "      <td>119</td>\n",
       "      <td>Adventure</td>\n",
       "      <td>Summit Entertainment</td>\n",
       "      <td>2015-03-18</td>\n",
       "      <td>2480</td>\n",
       "      <td>6.3</td>\n",
       "      <td>2015</td>\n",
       "      <td>1.012000e+08</td>\n",
       "      <td>2.716190e+08</td>\n",
       "    </tr>\n",
       "  </tbody>\n",
       "</table>\n",
       "<p>3 rows × 21 columns</p>\n",
       "</div>"
      ],
      "text/plain": [
       "       id    imdb_id  popularity     budget     revenue      original_title  \\\n",
       "0  135397  tt0369610   32.985763  150000000  1513528810      Jurassic World   \n",
       "1   76341  tt1392190   28.419936  150000000   378436354  Mad Max: Fury Road   \n",
       "2  262500  tt2908446   13.112507  110000000   295238201           Insurgent   \n",
       "\n",
       "                                                cast  \\\n",
       "0  Chris Pratt|Bryce Dallas Howard|Irrfan Khan|Vi...   \n",
       "1  Tom Hardy|Charlize Theron|Hugh Keays-Byrne|Nic...   \n",
       "2  Shailene Woodley|Theo James|Kate Winslet|Ansel...   \n",
       "\n",
       "                                         homepage          director  \\\n",
       "0                   http://www.jurassicworld.com/   Colin Trevorrow   \n",
       "1                     http://www.madmaxmovie.com/     George Miller   \n",
       "2  http://www.thedivergentseries.movie/#insurgent  Robert Schwentke   \n",
       "\n",
       "                      tagline  ...  \\\n",
       "0           The park is open.  ...   \n",
       "1          What a Lovely Day.  ...   \n",
       "2  One Choice Can Destroy You  ...   \n",
       "\n",
       "                                            overview runtime     genres  \\\n",
       "0  Twenty-two years after the events of Jurassic ...     124     Action   \n",
       "1  An apocalyptic story set in the furthest reach...     120     Action   \n",
       "2  Beatrice Prior must confront her inner demons ...     119  Adventure   \n",
       "\n",
       "        production_companies release_date vote_count  vote_average  \\\n",
       "0          Universal Studios   2015-06-09       5562           6.5   \n",
       "1  Village Roadshow Pictures   2015-05-13       6185           7.1   \n",
       "2       Summit Entertainment   2015-03-18       2480           6.3   \n",
       "\n",
       "   release_year    budget_adj   revenue_adj  \n",
       "0          2015  1.379999e+08  1.392446e+09  \n",
       "1          2015  1.379999e+08  3.481613e+08  \n",
       "2          2015  1.012000e+08  2.716190e+08  \n",
       "\n",
       "[3 rows x 21 columns]"
      ]
     },
     "execution_count": 65,
     "metadata": {},
     "output_type": "execute_result"
    }
   ],
   "source": [
    "df.head(3)"
   ]
  },
  {
   "cell_type": "markdown",
   "id": "919a6924",
   "metadata": {},
   "source": [
    "# Exploratory Data Analysis\n",
    "## Here I'll explore some interesting questions around the movie data I collected."
   ]
  },
  {
   "cell_type": "markdown",
   "id": "c8e7074b",
   "metadata": {},
   "source": [
    "## 1) Which movie genres are most popular?"
   ]
  },
  {
   "cell_type": "code",
   "execution_count": 68,
   "id": "eca29182",
   "metadata": {},
   "outputs": [],
   "source": [
    "pop_movies = df.groupby(['genres'])['popularity'].mean()"
   ]
  },
  {
   "cell_type": "code",
   "execution_count": 69,
   "id": "1c98ec80",
   "metadata": {},
   "outputs": [
    {
     "name": "stdout",
     "output_type": "stream",
     "text": [
      "genres\n",
      "Action             1.986913\n",
      "Adventure          2.579849\n",
      "Animation          1.581842\n",
      "Comedy             0.880423\n",
      "Crime              1.327691\n",
      "Documentary        0.268144\n",
      "Drama              0.989608\n",
      "Family             1.380851\n",
      "Fantasy            1.754675\n",
      "History            1.345724\n",
      "Horror             0.754793\n",
      "Music              0.423895\n",
      "Mystery            1.422963\n",
      "Romance            1.303659\n",
      "Science Fiction    2.338259\n",
      "TV Movie           0.377490\n",
      "Thriller           1.024357\n",
      "War                1.588715\n",
      "Western            3.699665\n",
      "Name: popularity, dtype: float64\n"
     ]
    }
   ],
   "source": [
    "print(pop_movies)"
   ]
  },
  {
   "cell_type": "code",
   "execution_count": 90,
   "id": "43ad33eb",
   "metadata": {},
   "outputs": [
    {
     "data": {
      "image/png": "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\n",
      "text/plain": [
       "<Figure size 1440x720 with 1 Axes>"
      ]
     },
     "metadata": {
      "needs_background": "light"
     },
     "output_type": "display_data"
    }
   ],
   "source": [
    "pop_movies.plot.bar(color = 'brown',figsize=(20, 10), fontsize = 10);"
   ]
  },
  {
   "cell_type": "code",
   "execution_count": 78,
   "id": "54136cf9",
   "metadata": {},
   "outputs": [
    {
     "data": {
      "image/png": "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\n",
      "text/plain": [
       "<Figure size 1440x720 with 1 Axes>"
      ]
     },
     "metadata": {
      "needs_background": "light"
     },
     "output_type": "display_data"
    }
   ],
   "source": [
    "plt.subplots(figsize=(20, 10))\n",
    "plt.bar(pop_movies.index, pop_movies)\n",
    "plt.title('popularity by genre')\n",
    "plt.xlabel('genre')\n",
    "plt.ylabel('Popularity');"
   ]
  },
  {
   "cell_type": "markdown",
   "id": "36b50c4f",
   "metadata": {},
   "source": [
    "Result: Western and Adventure genres are really popular"
   ]
  },
  {
   "cell_type": "markdown",
   "id": "44a1670c",
   "metadata": {},
   "source": [
    "## 2) Does popularity affect revenue?"
   ]
  },
  {
   "cell_type": "code",
   "execution_count": 80,
   "id": "5bdc919e",
   "metadata": {},
   "outputs": [
    {
     "data": {
      "image/png": "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\n",
      "text/plain": [
       "<Figure size 432x288 with 1 Axes>"
      ]
     },
     "metadata": {
      "needs_background": "light"
     },
     "output_type": "display_data"
    }
   ],
   "source": [
    "#To answer this, we should take a look at the correlation between popularity and revenue\n",
    "df.plot(x='popularity', y='revenue', kind='scatter', title = 'popularity and revenue');\n"
   ]
  },
  {
   "cell_type": "markdown",
   "id": "fbbe6a1c",
   "metadata": {},
   "source": [
    "Scatter doesn't show the relation clearly, so I decided to try a trend line."
   ]
  },
  {
   "cell_type": "code",
   "execution_count": 81,
   "id": "b3d17b56",
   "metadata": {},
   "outputs": [],
   "source": [
    "pop_rev_movies = df.groupby(['revenue'])['popularity'].mean()"
   ]
  },
  {
   "cell_type": "code",
   "execution_count": 105,
   "id": "6bddc5d6",
   "metadata": {},
   "outputs": [
    {
     "data": {
      "image/png": "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\n",
      "text/plain": [
       "<Figure size 1320x660 with 1 Axes>"
      ]
     },
     "metadata": {
      "needs_background": "light"
     },
     "output_type": "display_data"
    }
   ],
   "source": [
    "#  size(width, height)\n",
    "plt.figure(figsize=(12,6), dpi = 110)\n",
    "\n",
    "# x-axis\n",
    "plt.xlabel('popularity of movies', fontsize = 10)\n",
    "# y-axis\n",
    "plt.ylabel('revenues of Movies', fontsize = 10)\n",
    "# Title\n",
    "plt.title('revenue-popularity relations')\n",
    "\n",
    "# Line chart\n",
    "plt.plot(pop_rev_movies)\n",
    "\n",
    "# Display plot\n",
    "plt.show()"
   ]
  },
  {
   "cell_type": "markdown",
   "id": "726f10b3",
   "metadata": {},
   "source": [
    "In my analysis of the results, revenue doesn't directly depend on movie popularity."
   ]
  },
  {
   "cell_type": "markdown",
   "id": "a10ecfda",
   "metadata": {},
   "source": [
    "## 3) Which movies are most popular?"
   ]
  },
  {
   "cell_type": "code",
   "execution_count": 86,
   "id": "3062cb87",
   "metadata": {},
   "outputs": [
    {
     "data": {
      "text/plain": [
       "original_title\n",
       "Jurassic World             32.985763\n",
       "Mad Max: Fury Road         28.419936\n",
       "Interstellar               24.949134\n",
       "Guardians of the Galaxy    14.311205\n",
       "Insurgent                  13.112507\n",
       "Name: popularity, dtype: float64"
      ]
     },
     "execution_count": 86,
     "metadata": {},
     "output_type": "execute_result"
    }
   ],
   "source": [
    "# Grouping by title and popularity\n",
    "mov_popularity = df.groupby('original_title')['popularity'].sum()\n",
    "top_5 = mov_popularity.nlargest(5)\n",
    "top_5"
   ]
  },
  {
   "cell_type": "markdown",
   "id": "da7b07ef",
   "metadata": {},
   "source": [
    "\n",
    "Jurassic World is the most popular movie"
   ]
  },
  {
   "cell_type": "markdown",
   "id": "70b08d1e",
   "metadata": {},
   "source": [
    "## 4) Which film got more votes by the users of IMDb?"
   ]
  },
  {
   "cell_type": "code",
   "execution_count": 89,
   "id": "9ebc9728",
   "metadata": {},
   "outputs": [
    {
     "data": {
      "text/html": [
       "<div>\n",
       "<style scoped>\n",
       "    .dataframe tbody tr th:only-of-type {\n",
       "        vertical-align: middle;\n",
       "    }\n",
       "\n",
       "    .dataframe tbody tr th {\n",
       "        vertical-align: top;\n",
       "    }\n",
       "\n",
       "    .dataframe thead th {\n",
       "        text-align: right;\n",
       "    }\n",
       "</style>\n",
       "<table border=\"1\" class=\"dataframe\">\n",
       "  <thead>\n",
       "    <tr style=\"text-align: right;\">\n",
       "      <th></th>\n",
       "      <th>original_title</th>\n",
       "      <th>vote_average</th>\n",
       "    </tr>\n",
       "  </thead>\n",
       "  <tbody>\n",
       "    <tr>\n",
       "      <th>7269</th>\n",
       "      <td>The Godfather</td>\n",
       "      <td>8.3</td>\n",
       "    </tr>\n",
       "    <tr>\n",
       "      <th>650</th>\n",
       "      <td>Whiplash</td>\n",
       "      <td>8.2</td>\n",
       "    </tr>\n",
       "    <tr>\n",
       "      <th>2389</th>\n",
       "      <td>Bill Cunningham New York</td>\n",
       "      <td>8.1</td>\n",
       "    </tr>\n",
       "    <tr>\n",
       "      <th>2409</th>\n",
       "      <td>Fight Club</td>\n",
       "      <td>8.1</td>\n",
       "    </tr>\n",
       "    <tr>\n",
       "      <th>2875</th>\n",
       "      <td>The Dark Knight</td>\n",
       "      <td>8.1</td>\n",
       "    </tr>\n",
       "    <tr>\n",
       "      <th>3826</th>\n",
       "      <td>Kill Bill: The Whole Bloody Affair</td>\n",
       "      <td>8.1</td>\n",
       "    </tr>\n",
       "    <tr>\n",
       "      <th>10222</th>\n",
       "      <td>Schindler's List</td>\n",
       "      <td>8.1</td>\n",
       "    </tr>\n",
       "    <tr>\n",
       "      <th>9</th>\n",
       "      <td>Inside Out</td>\n",
       "      <td>8.0</td>\n",
       "    </tr>\n",
       "    <tr>\n",
       "      <th>35</th>\n",
       "      <td>Room</td>\n",
       "      <td>8.0</td>\n",
       "    </tr>\n",
       "    <tr>\n",
       "      <th>629</th>\n",
       "      <td>Interstellar</td>\n",
       "      <td>8.0</td>\n",
       "    </tr>\n",
       "    <tr>\n",
       "      <th>636</th>\n",
       "      <td>The Imitation Game</td>\n",
       "      <td>8.0</td>\n",
       "    </tr>\n",
       "    <tr>\n",
       "      <th>736</th>\n",
       "      <td>Song of the Sea</td>\n",
       "      <td>8.0</td>\n",
       "    </tr>\n",
       "    <tr>\n",
       "      <th>2075</th>\n",
       "      <td>Senna</td>\n",
       "      <td>8.0</td>\n",
       "    </tr>\n",
       "    <tr>\n",
       "      <th>2414</th>\n",
       "      <td>The Green Mile</td>\n",
       "      <td>8.0</td>\n",
       "    </tr>\n",
       "    <tr>\n",
       "      <th>2722</th>\n",
       "      <td>Band of Brothers</td>\n",
       "      <td>8.0</td>\n",
       "    </tr>\n",
       "  </tbody>\n",
       "</table>\n",
       "</div>"
      ],
      "text/plain": [
       "                           original_title  vote_average\n",
       "7269                        The Godfather           8.3\n",
       "650                              Whiplash           8.2\n",
       "2389             Bill Cunningham New York           8.1\n",
       "2409                           Fight Club           8.1\n",
       "2875                      The Dark Knight           8.1\n",
       "3826   Kill Bill: The Whole Bloody Affair           8.1\n",
       "10222                    Schindler's List           8.1\n",
       "9                              Inside Out           8.0\n",
       "35                                   Room           8.0\n",
       "629                          Interstellar           8.0\n",
       "636                    The Imitation Game           8.0\n",
       "736                       Song of the Sea           8.0\n",
       "2075                                Senna           8.0\n",
       "2414                       The Green Mile           8.0\n",
       "2722                     Band of Brothers           8.0"
      ]
     },
     "execution_count": 89,
     "metadata": {},
     "output_type": "execute_result"
    }
   ],
   "source": [
    "votes = df.nlargest(15,'vote_average')\n",
    "top15 = votes.loc[:,['original_title', 'vote_average']].head(15)\n",
    "top15"
   ]
  },
  {
   "cell_type": "markdown",
   "id": "ee1024be",
   "metadata": {},
   "source": [
    "The Godfather got a 8.3 rating by the users of IMDb"
   ]
  },
  {
   "cell_type": "code",
   "execution_count": 92,
   "id": "e47a2242",
   "metadata": {},
   "outputs": [],
   "source": [
    "profit_per_year = df.groupby('release_year')['revenue'].sum()"
   ]
  },
  {
   "cell_type": "code",
   "execution_count": 93,
   "id": "ccfaa141",
   "metadata": {},
   "outputs": [
    {
     "data": {
      "text/plain": [
       "release_year\n",
       "1961        4000000\n",
       "1962       59600000\n",
       "1963       78898765\n",
       "1964      125900549\n",
       "1965      141195658\n",
       "1967      111584787\n",
       "1969       81974493\n",
       "1970              0\n",
       "1971      183546000\n",
       "1972      245066411\n",
       "1973      603083981\n",
       "1974       97572000\n",
       "1975      588575267\n",
       "1976              0\n",
       "1977      960836680\n",
       "1978      289321952\n",
       "1979      462410148\n",
       "1980      559778361\n",
       "1981      731664919\n",
       "1982      839462062\n",
       "1983     1019662147\n",
       "1984      735328023\n",
       "1985      565238643\n",
       "1986       11000000\n",
       "1987      457442146\n",
       "1988       37806332\n",
       "1989     1002823860\n",
       "1990      857978520\n",
       "1991      384785279\n",
       "1992     1177124601\n",
       "1993     1497504993\n",
       "1994     1090599528\n",
       "1995     1216781406\n",
       "1996     1691178642\n",
       "1997     3309836793\n",
       "1998     1344629235\n",
       "1999     4975209237\n",
       "2000     2086840750\n",
       "2001     4313328186\n",
       "2002     5544886795\n",
       "2003     5475716851\n",
       "2004     8344079454\n",
       "2005     6147956869\n",
       "2006     9394297297\n",
       "2007    15298114456\n",
       "2008    12375548023\n",
       "2009    19013761470\n",
       "2010    18926009660\n",
       "2011    21695961547\n",
       "2012    18869664966\n",
       "2013    15810218745\n",
       "2014    16272923248\n",
       "2015    22400114908\n",
       "Name: revenue, dtype: int64"
      ]
     },
     "execution_count": 93,
     "metadata": {},
     "output_type": "execute_result"
    }
   ],
   "source": [
    "profit_per_year"
   ]
  },
  {
   "cell_type": "markdown",
   "id": "f5046fb8",
   "metadata": {},
   "source": [
    "## 5) Which year made the highest profit?"
   ]
  },
  {
   "cell_type": "code",
   "execution_count": 94,
   "id": "bbe4574c",
   "metadata": {},
   "outputs": [
    {
     "data": {
      "text/plain": [
       "2015"
      ]
     },
     "execution_count": 94,
     "metadata": {},
     "output_type": "execute_result"
    }
   ],
   "source": [
    "# Which year made the highest profit\n",
    "profit_per_year.idxmax()"
   ]
  },
  {
   "cell_type": "code",
   "execution_count": 95,
   "id": "b6cbc976",
   "metadata": {},
   "outputs": [
    {
     "data": {
      "text/plain": [
       "22400114908"
      ]
     },
     "execution_count": 95,
     "metadata": {},
     "output_type": "execute_result"
    }
   ],
   "source": [
    "# Amount of profit made in 2015\n",
    "profit_per_year[2015]"
   ]
  },
  {
   "cell_type": "code",
   "execution_count": 96,
   "id": "289015e7",
   "metadata": {},
   "outputs": [
    {
     "data": {
      "text/plain": [
       "1970"
      ]
     },
     "execution_count": 96,
     "metadata": {},
     "output_type": "execute_result"
    }
   ],
   "source": [
    "# Which year made the lowest profit?\n",
    "profit_per_year.idxmin()"
   ]
  },
  {
   "cell_type": "code",
   "execution_count": 107,
   "id": "d60e2453",
   "metadata": {},
   "outputs": [
    {
     "data": {
      "image/png": "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\n",
      "text/plain": [
       "<Figure size 880x660 with 1 Axes>"
      ]
     },
     "metadata": {
      "needs_background": "light"
     },
     "output_type": "display_data"
    }
   ],
   "source": [
    "# size(width, height)\n",
    "plt.figure(figsize=(8,6), dpi = 110)\n",
    "\n",
    "# x-axis\n",
    "plt.xlabel('Year of Movie Released', fontsize = 10)\n",
    "# y-axis\n",
    "plt.ylabel('Revenue', fontsize = 10)\n",
    "# Title\n",
    "plt.title('Revenue per movie released in a year')\n",
    "\n",
    "# Line chart\n",
    "plt.plot(profit_per_year)\n",
    "\n",
    "# Display plot\n",
    "plt.show()"
   ]
  },
  {
   "cell_type": "markdown",
   "id": "0a9537b2",
   "metadata": {},
   "source": [
    "The plot shows 2015 made the highest profit."
   ]
  },
  {
   "cell_type": "markdown",
   "id": "41db3167",
   "metadata": {},
   "source": [
    "# Conclusions\n",
    "In the begining of my analysis I gathered a list of interesting questions about the movie data :\n",
    "\n",
    "1) Which movie genres are most famous?\n",
    "I found that western and adventure types are really popular.\n",
    "\n",
    "2) Does popularity affect revenue?\n",
    "I found that revenue doesn't depend on movie popularity.\n",
    "\n",
    "3) Which movies are really femous?\n",
    "I found that Jurassic World and Mad Max: Fury Road are the most popular movies.\n",
    "\n",
    "4- Which movie got the most votes by IMDb users?\n",
    "One of my favorite movies received the highest chunk of votes, The Godfather at a rating of 8.3.\n",
    "\n",
    "5) Which year made the highest profit?\n",
    "It was 2015 that made the highest profit\n",
    "\n",
    "\n"
   ]
  },
  {
   "cell_type": "markdown",
   "id": "e17edef3",
   "metadata": {},
   "source": [
    "# Limitations \n",
    "In dealing with this data, I faced a number of problems, for example:\n",
    "\n",
    "1) The greatest limitation that I had was the missing values, for instance: `imdb_id`, `cast`, `homepage`, `tagline`, `keywords`, `production_companies`. Without these values, I had to adjust my analysis.\n",
    "\n",
    "2) Some information was not clear to me such as the currency and the county of origin for the movies. In my opinion, currency should be included in the data as this could affect my analysis, specifically for revenue and budget.\n"
   ]
  },
  {
   "cell_type": "code",
   "execution_count": null,
   "id": "aa265e26",
   "metadata": {},
   "outputs": [],
   "source": []
  }
 ],
 "metadata": {
  "kernelspec": {
   "display_name": "Python 3 (ipykernel)",
   "language": "python",
   "name": "python3"
  },
  "language_info": {
   "codemirror_mode": {
    "name": "ipython",
    "version": 3
   },
   "file_extension": ".py",
   "mimetype": "text/x-python",
   "name": "python",
   "nbconvert_exporter": "python",
   "pygments_lexer": "ipython3",
   "version": "3.9.12"
  }
 },
 "nbformat": 4,
 "nbformat_minor": 5
}
